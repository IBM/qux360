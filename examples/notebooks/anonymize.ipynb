{
 "cells": [
  {
   "cell_type": "markdown",
   "id": "3a5502d4",
   "metadata": {},
   "source": [
    "# Quick example of anonymizing user interview file"
   ]
  },
  {
   "cell_type": "code",
   "execution_count": 1,
   "id": "6e0823c7",
   "metadata": {},
   "outputs": [
    {
     "name": "stderr",
     "output_type": "stream",
     "text": [
      "/Users/siyakunde/miniforge3/envs/pyqual/lib/python3.12/site-packages/tqdm/auto.py:21: TqdmWarning: IProgress not found. Please update jupyter and ipywidgets. See https://ipywidgets.readthedocs.io/en/stable/user_install.html\n",
      "  from .autonotebook import tqdm as notebook_tqdm\n"
     ]
    }
   ],
   "source": [
    "from pathlib import Path\n",
    "import sys\n",
    "sys.path.append(\"../../src\")\n",
    "from pyqual.core.interview import Interview\n",
    "from mellea import MelleaSession\n",
    "from mellea.backends.litellm import LiteLLMBackend\n",
    "from dotenv import load_dotenv\n",
    "import os\n",
    "import logging\n",
    "\n",
    "# Configure logging\n",
    "logging.basicConfig(\n",
    "    level=logging.WARNING,  # Root: suppress all libraries by default\n",
    "    format='%(message)s'\n",
    ")\n",
    "\n",
    "# Enable INFO logging only for pyqual\n",
    "logging.getLogger(\"pyqual\").setLevel(logging.INFO)\n",
    "\n",
    "load_dotenv()\n",
    "\n",
    "ROOT_DIR = os.path.dirname(Path('__file__').absolute().parent.parent)"
   ]
  },
  {
   "cell_type": "code",
   "execution_count": null,
   "id": "ef85c7ee",
   "metadata": {},
   "outputs": [
    {
     "name": "stdout",
     "output_type": "stream",
     "text": [
      "/Users/siyakunde/Documents/Code/pyqual /Users/siyakunde/Documents/Code/pyqual/examples/data/interview_A.xlsx\n"
     ]
    }
   ],
   "source": [
    "m = MelleaSession(backend=LiteLLMBackend(model_id=os.getenv(\"MODEL_ID\")))\n",
    "\n",
    "# Suppress Mellea's FancyLogger (MelleaSession resets it to DEBUG, so we set it here)\n",
    "logging.getLogger('fancy_logger').setLevel(logging.WARNING)\n",
    "\n",
    "\n",
    "data_dir = os.path.join(ROOT_DIR, \"examples/data\")\n",
    "file = os.path.join(data_dir, \"interview_A.xlsx\")\n",
    "export_file = os.path.join(data_dir, \"interview_A_exported.xlsx\")\n",
    "participant_id = \"P1\"\n",
    "config_file = os.path.join(ROOT_DIR, \"examples/config.json\")"
   ]
  },
  {
   "cell_type": "code",
   "execution_count": 3,
   "id": "2f11dd9e",
   "metadata": {},
   "outputs": [
    {
     "name": "stderr",
     "output_type": "stream",
     "text": [
      "    0:01 | Jordan Lee           | Thanks for joining today, Alex. To start, can you tell me a \n",
      "    0:06 | Alex Morgan          | Sure. I’m a product manager at FuturaSoft, a startup based i\n",
      "    0:15 | Jordan Lee           | How long have you been with the company?\n",
      "    0:18 | Alex Morgan          | It’s been just over three years. I joined right before the s\n",
      "    0:25 | Jordan Lee           | What was that transition like for you and your team?\n",
      "    0:28 | Alex Morgan          | Challenging at first. We were used to working in the same of\n",
      "    0:36 | Jordan Lee           | What tools did you end up relying on the most?\n",
      "    0:40 | Alex Morgan          | Slack for quick communication, Zoom for meetings, and Miro f\n",
      "    0:48 | Jordan Lee           | How has remote work impacted your productivity?\n",
      "    0:52 | Alex Morgan          | Personally, I feel more productive without a daily commute. \n"
     ]
    }
   ],
   "source": [
    "# [OPTION A] create an instance without headers config (has headers by default)\n",
    "i = Interview(file)\n",
    "\n",
    "# [OPTION B] create an instance with headers config\n",
    "'''\n",
    "# loads config file to get the headers names provided by the user\n",
    "with open(config_file, \"r\", encoding=\"utf-8\") as f:\n",
    "    config = json.load(f)\n",
    "# create an instance with headers config\n",
    "i = Interview(file, headers=config['headers'])\n",
    "'''\n",
    "\n",
    "# see what we loaded\n",
    "i.show(10)"
   ]
  },
  {
   "cell_type": "code",
   "execution_count": 4,
   "id": "0cc00e1a",
   "metadata": {},
   "outputs": [
    {
     "name": "stderr",
     "output_type": "stream",
     "text": [
      "    0:01 | Speaker1             | Thanks for joining today, Alex. To start, can you tell me a \n",
      "    0:06 | Speaker2             | Sure. I’m a product manager at FuturaSoft, a startup based i\n",
      "    0:15 | Speaker1             | How long have you been with the company?\n",
      "    0:18 | Speaker2             | It’s been just over three years. I joined right before the s\n",
      "    0:25 | Speaker1             | What was that transition like for you and your team?\n",
      "    0:28 | Speaker2             | Challenging at first. We were used to working in the same of\n",
      "    0:36 | Speaker1             | What tools did you end up relying on the most?\n",
      "    0:40 | Speaker2             | Slack for quick communication, Zoom for meetings, and Miro f\n",
      "    0:48 | Speaker1             | How has remote work impacted your productivity?\n",
      "    0:52 | Speaker2             | Personally, I feel more productive without a daily commute. \n"
     ]
    },
    {
     "name": "stdout",
     "output_type": "stream",
     "text": [
      "\n",
      "Speakers: ['Jordan Lee', 'Alex Morgan']\n",
      "\n",
      "Speaker anonymization - Mapping:\n",
      "  Jordan Lee -> Speaker1\n",
      "  Alex Morgan -> Speaker2\n"
     ]
    }
   ],
   "source": [
    "# look at the speakers\n",
    "speakers = i.get_speakers()\n",
    "print(f\"\\nSpeakers: {speakers}\")\n",
    "\n",
    "# anonmyze speakers\n",
    "map = i.anonymize_speakers_generic()\n",
    "print(\"\\nSpeaker anonymization - Mapping:\")\n",
    "for original, anon in map.items():\n",
    "    print(f\"  {original} -> {anon}\")\n",
    "\n",
    "# let's see how it looks like\n",
    "i.show(10)"
   ]
  }
 ],
 "metadata": {
  "kernelspec": {
   "display_name": "pyqual",
   "language": "python",
   "name": "python3"
  },
  "language_info": {
   "codemirror_mode": {
    "name": "ipython",
    "version": 3
   },
   "file_extension": ".py",
   "mimetype": "text/x-python",
   "name": "python",
   "nbconvert_exporter": "python",
   "pygments_lexer": "ipython3",
   "version": "3.12.12"
  }
 },
 "nbformat": 4,
 "nbformat_minor": 5
}
