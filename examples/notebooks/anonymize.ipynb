{
 "cells": [
  {
   "cell_type": "markdown",
   "id": "3a5502d4",
   "metadata": {},
   "source": [
    "# Quick example of anonymizing user interview file"
   ]
  },
  {
   "cell_type": "code",
   "execution_count": null,
   "id": "6e0823c7",
   "metadata": {},
   "outputs": [],
   "source": [
    "from pathlib import Path\n",
    "import sys\n",
    "sys.path.append(\"../../src\")\n",
    "from qux360.core import Interview\n",
    "from mellea import MelleaSession\n",
    "from mellea.backends.litellm import LiteLLMBackend\n",
    "from dotenv import load_dotenv\n",
    "import os\n",
    "import logging\n",
    "\n",
    "# Configure logging, suppress all libraries by default\n",
    "logging.basicConfig(level=logging.WARNING, format='%(message)s')\n",
    "\n",
    "# Enable INFO logging only for qux360\n",
    "logging.getLogger(\"qux360\").setLevel(logging.INFO)\n",
    "\n",
    "load_dotenv()\n",
    "\n",
    "ROOT_DIR = os.path.dirname(os.path.dirname(os.getcwd()))"
   ]
  },
  {
   "cell_type": "code",
   "execution_count": 20,
   "id": "ef85c7ee",
   "metadata": {},
   "outputs": [],
   "source": [
    "m = MelleaSession(backend=LiteLLMBackend(model_id=os.getenv(\"MODEL_ID\")))\n",
    "\n",
    "# Suppress Mellea's FancyLogger (MelleaSession resets it to DEBUG, so we set it here)\n",
    "logging.getLogger('fancy_logger').setLevel(logging.WARNING)\n",
    "\n",
    "\n",
    "data_dir = os.path.join(ROOT_DIR, \"examples/data\")\n",
    "file = os.path.join(data_dir, \"interview_A.xlsx\")\n",
    "export_file = os.path.join(data_dir, \"interview_A_exported.xlsx\")\n",
    "participant_id = \"P1\"\n",
    "config_file = os.path.join(ROOT_DIR, \"examples/config.json\")"
   ]
  },
  {
   "cell_type": "code",
   "execution_count": null,
   "id": "2f11dd9e",
   "metadata": {},
   "outputs": [],
   "source": [
    "# [OPTION A] create an instance without headers config (has headers by default)\n",
    "i = Interview(file)\n",
    "\n",
    "# [OPTION B] create an instance with headers config\n",
    "'''\n",
    "# loads config file to get the headers names provided by the user\n",
    "with open(config_file, \"r\", encoding=\"utf-8\") as f:\n",
    "    config = json.load(f)\n",
    "# create an instance with headers config\n",
    "i = Interview(file, headers=config['headers'])\n",
    "'''\n",
    "\n",
    "# see what we loaded\n",
    "i.show(10)"
   ]
  },
  {
   "cell_type": "code",
   "execution_count": null,
   "id": "0cc00e1a",
   "metadata": {},
   "outputs": [],
   "source": [
    "# look at the speakers\n",
    "speakers = i.get_speakers()\n",
    "print(f\"\\nSpeakers: {speakers}\")\n",
    "\n",
    "# anonmyze speakers\n",
    "map = i.anonymize_speakers_generic()\n",
    "print(\"\\nSpeaker anonymization - Mapping:\")\n",
    "for original, anon in map.items():\n",
    "    print(f\"  {original} -> {anon}\")\n",
    "\n",
    "# let's see how it looks like\n",
    "i.show(10)"
   ]
  }
 ],
 "metadata": {
  "kernelspec": {
   "display_name": "qux360",
   "language": "python",
   "name": "python3"
  },
  "language_info": {
   "codemirror_mode": {
    "name": "ipython",
    "version": 3
   },
   "file_extension": ".py",
   "mimetype": "text/x-python",
   "name": "python",
   "nbconvert_exporter": "python",
   "pygments_lexer": "ipython3",
   "version": "3.12.12"
  }
 },
 "nbformat": 4,
 "nbformat_minor": 5
}
